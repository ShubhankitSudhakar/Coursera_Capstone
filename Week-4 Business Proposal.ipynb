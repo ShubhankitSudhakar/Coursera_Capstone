{
 "cells": [
  {
   "cell_type": "markdown",
   "metadata": {},
   "source": [
    "# The Battle of Neighbourhoods (week4)\n",
    "\n",
    "## Introduction:\n",
    "\n",
    "This project will help you in exploring better places around your neighbourhood. it will help you in making efficit and better decision on selecting best neighbourhood out of many in Scarborough, Toronato.\n",
    "\n",
    "If you are migrating to various states of Canada and needed research to find better housing prices and better schools for your children. This will help you to find better neighbourhood with ease of access to School, medical facilites, Grocery shops, Malls, stores, Cafes, etc.\n",
    "\n",
    "This Project aim to create an analysis of features for migrating to Scarborough to search a best neighborhood as a comparative analysis between neighborhoods. The features include median housing price, lower crime rates of that particular area, road connectivity, good management for emergency, water resources both freash and waste water, weather conditions, excrement conveyed in sewers, recreational facilities and better school according to ratings.\n",
    "\n",
    "This will help you in sorting place to start a new life and for their work."
   ]
  },
  {
   "cell_type": "markdown",
   "metadata": {},
   "source": [
    "## Business problem:\n",
    "The purpose of the project is to help anyone who are moving to new city by suggesting better neighbourhood with better social presence, better connectivity and ease of access to better facilities.\n",
    "<ul>\n",
    "    <li>Sorted list of house in terms of housing prices in a ascending or descending order.</li>\n",
    "    <li>Sorted list of schools in terms of location, fees, rating and reviews.</li></ul>"
   ]
  }
 ],
 "metadata": {
  "kernelspec": {
   "display_name": "Python 3",
   "language": "python",
   "name": "python3"
  },
  "language_info": {
   "codemirror_mode": {
    "name": "ipython",
    "version": 3
   },
   "file_extension": ".py",
   "mimetype": "text/x-python",
   "name": "python",
   "nbconvert_exporter": "python",
   "pygments_lexer": "ipython3",
   "version": "3.7.6"
  }
 },
 "nbformat": 4,
 "nbformat_minor": 4
}
